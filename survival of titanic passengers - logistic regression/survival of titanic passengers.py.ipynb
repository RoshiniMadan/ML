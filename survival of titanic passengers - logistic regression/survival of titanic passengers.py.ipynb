{
 "cells": [
  {
   "cell_type": "code",
   "execution_count": 1,
   "metadata": {},
   "outputs": [],
   "source": [
    "import pandas as pd\n",
    "import numpy as np\n",
    " \n",
    "import matplotlib\n",
    "import matplotlib.pyplot as plt\n",
    "from pandas.plotting import scatter_matrix\n",
    "%matplotlib inline \n",
    "\n",
    "import seaborn as sns\n",
    "sns.set(style=\"white\",color_codes=True)\n",
    "sns.set(font_scale=1.5)\n",
    "\n",
    "from sklearn.linear_model import LogisticRegression\n",
    "from sklearn.model_selection import train_test_split\n",
    "\n",
    "from sklearn.metrics import confusion_matrix\n",
    "from sklearn.metrics import classification_report\n",
    "from sklearn.metrics import accuracy_score\n",
    "from sklearn.metrics import precision_score\n",
    "from sklearn.metrics import recall_score\n",
    "from sklearn.metrics import f1_score\n",
    "from sklearn import metrics\n"
   ]
  },
  {
   "cell_type": "code",
   "execution_count": 2,
   "metadata": {},
   "outputs": [
    {
     "data": {
      "text/plain": [
       "(891, 12)"
      ]
     },
     "execution_count": 2,
     "metadata": {},
     "output_type": "execute_result"
    }
   ],
   "source": [
    "df_train = pd.read_csv(\"train.csv\")\n",
    "df_train.shape"
   ]
  },
  {
   "cell_type": "code",
   "execution_count": 4,
   "metadata": {},
   "outputs": [
    {
     "data": {
      "text/plain": [
       "0    549\n",
       "1    342\n",
       "Name: Survived, dtype: int64"
      ]
     },
     "execution_count": 4,
     "metadata": {},
     "output_type": "execute_result"
    }
   ],
   "source": [
    "df_train.Survived.value_counts()"
   ]
  },
  {
   "cell_type": "code",
   "execution_count": 5,
   "metadata": {},
   "outputs": [
    {
     "data": {
      "text/plain": [
       "male      577\n",
       "female    314\n",
       "Name: Sex, dtype: int64"
      ]
     },
     "execution_count": 5,
     "metadata": {},
     "output_type": "execute_result"
    }
   ],
   "source": [
    "df_train.Sex.value_counts()"
   ]
  },
  {
   "cell_type": "code",
   "execution_count": 6,
   "metadata": {},
   "outputs": [
    {
     "data": {
      "text/plain": [
       "S    644\n",
       "C    168\n",
       "Q     77\n",
       "Name: Embarked, dtype: int64"
      ]
     },
     "execution_count": 6,
     "metadata": {},
     "output_type": "execute_result"
    }
   ],
   "source": [
    "df_train.Embarked.value_counts()"
   ]
  },
  {
   "cell_type": "code",
   "execution_count": 8,
   "metadata": {},
   "outputs": [
    {
     "data": {
      "text/plain": [
       "PassengerId      0\n",
       "Survived         0\n",
       "Pclass           0\n",
       "Name             0\n",
       "Sex              0\n",
       "Age            177\n",
       "SibSp            0\n",
       "Parch            0\n",
       "Ticket           0\n",
       "Fare             0\n",
       "Cabin          687\n",
       "Embarked         2\n",
       "dtype: int64"
      ]
     },
     "execution_count": 8,
     "metadata": {},
     "output_type": "execute_result"
    }
   ],
   "source": [
    "df_train.isnull().sum()"
   ]
  },
  {
   "cell_type": "code",
   "execution_count": 9,
   "metadata": {},
   "outputs": [
    {
     "data": {
      "text/plain": [
       "(891, 12)"
      ]
     },
     "execution_count": 9,
     "metadata": {},
     "output_type": "execute_result"
    }
   ],
   "source": [
    "df_train.shape"
   ]
  },
  {
   "cell_type": "code",
   "execution_count": 14,
   "metadata": {},
   "outputs": [
    {
     "data": {
      "text/html": [
       "<div>\n",
       "<style scoped>\n",
       "    .dataframe tbody tr th:only-of-type {\n",
       "        vertical-align: middle;\n",
       "    }\n",
       "\n",
       "    .dataframe tbody tr th {\n",
       "        vertical-align: top;\n",
       "    }\n",
       "\n",
       "    .dataframe thead th {\n",
       "        text-align: right;\n",
       "    }\n",
       "</style>\n",
       "<table border=\"1\" class=\"dataframe\">\n",
       "  <thead>\n",
       "    <tr style=\"text-align: right;\">\n",
       "      <th></th>\n",
       "      <th>Survived</th>\n",
       "      <th>Pclass</th>\n",
       "      <th>Sex</th>\n",
       "      <th>Age</th>\n",
       "      <th>SibSp</th>\n",
       "      <th>Parch</th>\n",
       "      <th>Fare</th>\n",
       "      <th>Embarked</th>\n",
       "    </tr>\n",
       "  </thead>\n",
       "  <tbody>\n",
       "    <tr>\n",
       "      <th>0</th>\n",
       "      <td>0</td>\n",
       "      <td>3</td>\n",
       "      <td>male</td>\n",
       "      <td>22.0</td>\n",
       "      <td>1</td>\n",
       "      <td>0</td>\n",
       "      <td>7.2500</td>\n",
       "      <td>S</td>\n",
       "    </tr>\n",
       "    <tr>\n",
       "      <th>1</th>\n",
       "      <td>1</td>\n",
       "      <td>1</td>\n",
       "      <td>female</td>\n",
       "      <td>38.0</td>\n",
       "      <td>1</td>\n",
       "      <td>0</td>\n",
       "      <td>71.2833</td>\n",
       "      <td>C</td>\n",
       "    </tr>\n",
       "    <tr>\n",
       "      <th>2</th>\n",
       "      <td>1</td>\n",
       "      <td>3</td>\n",
       "      <td>female</td>\n",
       "      <td>26.0</td>\n",
       "      <td>0</td>\n",
       "      <td>0</td>\n",
       "      <td>7.9250</td>\n",
       "      <td>S</td>\n",
       "    </tr>\n",
       "    <tr>\n",
       "      <th>3</th>\n",
       "      <td>1</td>\n",
       "      <td>1</td>\n",
       "      <td>female</td>\n",
       "      <td>35.0</td>\n",
       "      <td>1</td>\n",
       "      <td>0</td>\n",
       "      <td>53.1000</td>\n",
       "      <td>S</td>\n",
       "    </tr>\n",
       "    <tr>\n",
       "      <th>4</th>\n",
       "      <td>0</td>\n",
       "      <td>3</td>\n",
       "      <td>male</td>\n",
       "      <td>35.0</td>\n",
       "      <td>0</td>\n",
       "      <td>0</td>\n",
       "      <td>8.0500</td>\n",
       "      <td>S</td>\n",
       "    </tr>\n",
       "  </tbody>\n",
       "</table>\n",
       "</div>"
      ],
      "text/plain": [
       "   Survived  Pclass     Sex   Age  SibSp  Parch     Fare Embarked\n",
       "0         0       3    male  22.0      1      0   7.2500        S\n",
       "1         1       1  female  38.0      1      0  71.2833        C\n",
       "2         1       3  female  26.0      0      0   7.9250        S\n",
       "3         1       1  female  35.0      1      0  53.1000        S\n",
       "4         0       3    male  35.0      0      0   8.0500        S"
      ]
     },
     "execution_count": 14,
     "metadata": {},
     "output_type": "execute_result"
    }
   ],
   "source": [
    "df_train = df_train.drop(['PassengerId','Name','Ticket','Cabin'],axis=1)\n",
    "df_train.head()"
   ]
  },
  {
   "cell_type": "code",
   "execution_count": 15,
   "metadata": {},
   "outputs": [],
   "source": [
    "def age_approx(cols):\n",
    "    Age = cols[0]\n",
    "    Pclass = cols[1]\n",
    "    \n",
    "    if pd.isnull(age):\n",
    "        if Pclass ==1:\n",
    "            return 37\n",
    "        elif Pclass ==2:\n",
    "            return 29\n",
    "        else:\n",
    "            return 24\n",
    "    else:\n",
    "        return Age\n",
    "        "
   ]
  },
  {
   "cell_type": "code",
   "execution_count": 16,
   "metadata": {},
   "outputs": [
    {
     "data": {
      "text/html": [
       "<div>\n",
       "<style scoped>\n",
       "    .dataframe tbody tr th:only-of-type {\n",
       "        vertical-align: middle;\n",
       "    }\n",
       "\n",
       "    .dataframe tbody tr th {\n",
       "        vertical-align: top;\n",
       "    }\n",
       "\n",
       "    .dataframe thead th {\n",
       "        text-align: right;\n",
       "    }\n",
       "</style>\n",
       "<table border=\"1\" class=\"dataframe\">\n",
       "  <thead>\n",
       "    <tr style=\"text-align: right;\">\n",
       "      <th></th>\n",
       "      <th>Survived</th>\n",
       "      <th>Age</th>\n",
       "      <th>SibSp</th>\n",
       "      <th>Parch</th>\n",
       "      <th>Fare</th>\n",
       "    </tr>\n",
       "    <tr>\n",
       "      <th>Pclass</th>\n",
       "      <th></th>\n",
       "      <th></th>\n",
       "      <th></th>\n",
       "      <th></th>\n",
       "      <th></th>\n",
       "    </tr>\n",
       "  </thead>\n",
       "  <tbody>\n",
       "    <tr>\n",
       "      <th>1</th>\n",
       "      <td>0.629630</td>\n",
       "      <td>38.233441</td>\n",
       "      <td>0.416667</td>\n",
       "      <td>0.356481</td>\n",
       "      <td>84.154687</td>\n",
       "    </tr>\n",
       "    <tr>\n",
       "      <th>2</th>\n",
       "      <td>0.472826</td>\n",
       "      <td>29.877630</td>\n",
       "      <td>0.402174</td>\n",
       "      <td>0.380435</td>\n",
       "      <td>20.662183</td>\n",
       "    </tr>\n",
       "    <tr>\n",
       "      <th>3</th>\n",
       "      <td>0.242363</td>\n",
       "      <td>25.140620</td>\n",
       "      <td>0.615071</td>\n",
       "      <td>0.393075</td>\n",
       "      <td>13.675550</td>\n",
       "    </tr>\n",
       "  </tbody>\n",
       "</table>\n",
       "</div>"
      ],
      "text/plain": [
       "        Survived        Age     SibSp     Parch       Fare\n",
       "Pclass                                                    \n",
       "1       0.629630  38.233441  0.416667  0.356481  84.154687\n",
       "2       0.472826  29.877630  0.402174  0.380435  20.662183\n",
       "3       0.242363  25.140620  0.615071  0.393075  13.675550"
      ]
     },
     "execution_count": 16,
     "metadata": {},
     "output_type": "execute_result"
    }
   ],
   "source": [
    "df_train.groupby(['Pclass']).mean()"
   ]
  },
  {
   "cell_type": "code",
   "execution_count": null,
   "metadata": {},
   "outputs": [],
   "source": [
    "df_train['Age'] = df_train[['Age','Pclass']].apply(age_approx,axis=1)"
   ]
  },
  {
   "cell_type": "code",
   "execution_count": 20,
   "metadata": {},
   "outputs": [
    {
     "data": {
      "text/plain": [
       "Survived      0\n",
       "Pclass        0\n",
       "Sex           0\n",
       "Age         177\n",
       "SibSp         0\n",
       "Parch         0\n",
       "Fare          0\n",
       "Embarked      2\n",
       "dtype: int64"
      ]
     },
     "execution_count": 20,
     "metadata": {},
     "output_type": "execute_result"
    }
   ],
   "source": [
    "df_train.isnull().sum()"
   ]
  },
  {
   "cell_type": "code",
   "execution_count": 21,
   "metadata": {},
   "outputs": [
    {
     "data": {
      "text/plain": [
       "Survived    0\n",
       "Pclass      0\n",
       "Sex         0\n",
       "Age         0\n",
       "SibSp       0\n",
       "Parch       0\n",
       "Fare        0\n",
       "Embarked    0\n",
       "dtype: int64"
      ]
     },
     "execution_count": 21,
     "metadata": {},
     "output_type": "execute_result"
    }
   ],
   "source": [
    "df_train.dropna(inplace=True)\n",
    "df_train.isnull().sum()"
   ]
  },
  {
   "cell_type": "code",
   "execution_count": 22,
   "metadata": {},
   "outputs": [
    {
     "data": {
      "text/plain": [
       "Survived      int64\n",
       "Pclass        int64\n",
       "Sex          object\n",
       "Age         float64\n",
       "SibSp         int64\n",
       "Parch         int64\n",
       "Fare        float64\n",
       "Embarked     object\n",
       "dtype: object"
      ]
     },
     "execution_count": 22,
     "metadata": {},
     "output_type": "execute_result"
    }
   ],
   "source": [
    "df_train.dtypes"
   ]
  },
  {
   "cell_type": "code",
   "execution_count": 24,
   "metadata": {},
   "outputs": [],
   "source": [
    "df_train_dummied = pd.get_dummies(df_train,columns=[\"Sex\"])"
   ]
  },
  {
   "cell_type": "code",
   "execution_count": null,
   "metadata": {},
   "outputs": [],
   "source": [
    "df_train_dummied = pd.get_dummies(df_train_dummied,columns=[\"Embarked\"])"
   ]
  },
  {
   "cell_type": "code",
   "execution_count": 28,
   "metadata": {},
   "outputs": [
    {
     "data": {
      "text/html": [
       "<div>\n",
       "<style scoped>\n",
       "    .dataframe tbody tr th:only-of-type {\n",
       "        vertical-align: middle;\n",
       "    }\n",
       "\n",
       "    .dataframe tbody tr th {\n",
       "        vertical-align: top;\n",
       "    }\n",
       "\n",
       "    .dataframe thead th {\n",
       "        text-align: right;\n",
       "    }\n",
       "</style>\n",
       "<table border=\"1\" class=\"dataframe\">\n",
       "  <thead>\n",
       "    <tr style=\"text-align: right;\">\n",
       "      <th></th>\n",
       "      <th>Survived</th>\n",
       "      <th>Pclass</th>\n",
       "      <th>Age</th>\n",
       "      <th>SibSp</th>\n",
       "      <th>Parch</th>\n",
       "      <th>Fare</th>\n",
       "      <th>Sex_female</th>\n",
       "      <th>Sex_male</th>\n",
       "      <th>Embarked_C</th>\n",
       "      <th>Embarked_Q</th>\n",
       "      <th>Embarked_S</th>\n",
       "    </tr>\n",
       "  </thead>\n",
       "  <tbody>\n",
       "    <tr>\n",
       "      <th>0</th>\n",
       "      <td>0</td>\n",
       "      <td>3</td>\n",
       "      <td>22.0</td>\n",
       "      <td>1</td>\n",
       "      <td>0</td>\n",
       "      <td>7.2500</td>\n",
       "      <td>0</td>\n",
       "      <td>1</td>\n",
       "      <td>0</td>\n",
       "      <td>0</td>\n",
       "      <td>1</td>\n",
       "    </tr>\n",
       "    <tr>\n",
       "      <th>1</th>\n",
       "      <td>1</td>\n",
       "      <td>1</td>\n",
       "      <td>38.0</td>\n",
       "      <td>1</td>\n",
       "      <td>0</td>\n",
       "      <td>71.2833</td>\n",
       "      <td>1</td>\n",
       "      <td>0</td>\n",
       "      <td>1</td>\n",
       "      <td>0</td>\n",
       "      <td>0</td>\n",
       "    </tr>\n",
       "    <tr>\n",
       "      <th>2</th>\n",
       "      <td>1</td>\n",
       "      <td>3</td>\n",
       "      <td>26.0</td>\n",
       "      <td>0</td>\n",
       "      <td>0</td>\n",
       "      <td>7.9250</td>\n",
       "      <td>1</td>\n",
       "      <td>0</td>\n",
       "      <td>0</td>\n",
       "      <td>0</td>\n",
       "      <td>1</td>\n",
       "    </tr>\n",
       "    <tr>\n",
       "      <th>3</th>\n",
       "      <td>1</td>\n",
       "      <td>1</td>\n",
       "      <td>35.0</td>\n",
       "      <td>1</td>\n",
       "      <td>0</td>\n",
       "      <td>53.1000</td>\n",
       "      <td>1</td>\n",
       "      <td>0</td>\n",
       "      <td>0</td>\n",
       "      <td>0</td>\n",
       "      <td>1</td>\n",
       "    </tr>\n",
       "    <tr>\n",
       "      <th>4</th>\n",
       "      <td>0</td>\n",
       "      <td>3</td>\n",
       "      <td>35.0</td>\n",
       "      <td>0</td>\n",
       "      <td>0</td>\n",
       "      <td>8.0500</td>\n",
       "      <td>0</td>\n",
       "      <td>1</td>\n",
       "      <td>0</td>\n",
       "      <td>0</td>\n",
       "      <td>1</td>\n",
       "    </tr>\n",
       "  </tbody>\n",
       "</table>\n",
       "</div>"
      ],
      "text/plain": [
       "   Survived  Pclass   Age  SibSp  Parch     Fare  Sex_female  Sex_male  \\\n",
       "0         0       3  22.0      1      0   7.2500           0         1   \n",
       "1         1       1  38.0      1      0  71.2833           1         0   \n",
       "2         1       3  26.0      0      0   7.9250           1         0   \n",
       "3         1       1  35.0      1      0  53.1000           1         0   \n",
       "4         0       3  35.0      0      0   8.0500           0         1   \n",
       "\n",
       "   Embarked_C  Embarked_Q  Embarked_S  \n",
       "0           0           0           1  \n",
       "1           1           0           0  \n",
       "2           0           0           1  \n",
       "3           0           0           1  \n",
       "4           0           0           1  "
      ]
     },
     "execution_count": 28,
     "metadata": {},
     "output_type": "execute_result"
    }
   ],
   "source": [
    "df_train_dummied.head()"
   ]
  },
  {
   "cell_type": "code",
   "execution_count": 30,
   "metadata": {},
   "outputs": [
    {
     "data": {
      "text/plain": [
       "<matplotlib.axes._subplots.AxesSubplot at 0x220ed9ba0b8>"
      ]
     },
     "execution_count": 30,
     "metadata": {},
     "output_type": "execute_result"
    },
    {
     "data": {
      "image/png": "[encoded data removed]",
      "text/plain": [
       "<Figure size 432x288 with 2 Axes>"
      ]
     },
     "metadata": {},
     "output_type": "display_data"
    }
   ],
   "source": [
    "plt.figure(figsize=(6,4))\n",
    "sns.heatmap(df_train_dummied.corr())"
   ]
  },
  {
   "cell_type": "code",
   "execution_count": 32,
   "metadata": {},
   "outputs": [],
   "source": [
    "used_features = [\"Pclass\",\"Age\",\"SibSp\",\"Parch\",\"Sex_female\",\"Sex_male\",\"Embarked_C\",\"Embarked_Q\",\"Embarked_S\"]\n",
    "\n",
    "x = df_train_dummied[used_features].values\n",
    "y = df_train_dummied['Survived']"
   ]
  },
  {
   "cell_type": "code",
   "execution_count": 35,
   "metadata": {},
   "outputs": [],
   "source": [
    "x_train,x_test,y_train,y_test = train_test_split(x,y,test_size=0.3,random_state=1)"
   ]
  },
  {
   "cell_type": "code",
   "execution_count": 36,
   "metadata": {},
   "outputs": [
    {
     "name": "stdout",
     "output_type": "stream",
     "text": [
      "(498, 9)\n",
      "(214, 9)\n",
      "(498,)\n",
      "(214,)\n"
     ]
    }
   ],
   "source": [
    "print(x_train.shape)\n",
    "print(x_test.shape)\n",
    "print(y_train.shape)\n",
    "print(y_test.shape)"
   ]
  },
  {
   "cell_type": "code",
   "execution_count": 38,
   "metadata": {},
   "outputs": [],
   "source": [
    "LogReg = LogisticRegression()"
   ]
  },
  {
   "cell_type": "code",
   "execution_count": 40,
   "metadata": {},
   "outputs": [
    {
     "name": "stderr",
     "output_type": "stream",
     "text": [
      "C:\\Users\\Roshi\\anaconda3\\envs\\myenv\\lib\\site-packages\\sklearn\\linear_model\\_logistic.py:764: ConvergenceWarning: lbfgs failed to converge (status=1):\n",
      "STOP: TOTAL NO. of ITERATIONS REACHED LIMIT.\n",
      "\n",
      "Increase the number of iterations (max_iter) or scale the data as shown in:\n",
      "    https://scikit-learn.org/stable/modules/preprocessing.html\n",
      "Please also refer to the documentation for alternative solver options:\n",
      "    https://scikit-learn.org/stable/modules/linear_model.html#logistic-regression\n",
      "  extra_warning_msg=_LOGISTIC_SOLVER_CONVERGENCE_MSG)\n"
     ]
    },
    {
     "data": {
      "text/plain": [
       "LogisticRegression()"
      ]
     },
     "execution_count": 40,
     "metadata": {},
     "output_type": "execute_result"
    }
   ],
   "source": [
    "LogReg.fit(x_train,y_train)"
   ]
  },
  {
   "cell_type": "code",
   "execution_count": 43,
   "metadata": {},
   "outputs": [],
   "source": [
    "y_pred = LogReg.predict(x_test)"
   ]
  },
  {
   "cell_type": "code",
   "execution_count": 44,
   "metadata": {},
   "outputs": [
    {
     "data": {
      "text/plain": [
       "array([[102,  24],\n",
       "       [ 22,  66]], dtype=int64)"
      ]
     },
     "execution_count": 44,
     "metadata": {},
     "output_type": "execute_result"
    }
   ],
   "source": [
    "metrics.confusion_matrix(y_test,y_pred)"
   ]
  },
  {
   "cell_type": "code",
   "execution_count": 46,
   "metadata": {},
   "outputs": [
    {
     "data": {
      "text/plain": [
       "0.7850467289719626"
      ]
     },
     "execution_count": 46,
     "metadata": {},
     "output_type": "execute_result"
    }
   ],
   "source": [
    "metrics.accuracy_score(y_test,y_pred)"
   ]
  },
  {
   "cell_type": "code",
   "execution_count": 47,
   "metadata": {},
   "outputs": [
    {
     "data": {
      "text/plain": [
       "214"
      ]
     },
     "execution_count": 47,
     "metadata": {},
     "output_type": "execute_result"
    }
   ],
   "source": [
    "len(x_test)"
   ]
  },
  {
   "cell_type": "code",
   "execution_count": 48,
   "metadata": {},
   "outputs": [
    {
     "name": "stdout",
     "output_type": "stream",
     "text": [
      "              precision    recall  f1-score   support\n",
      "\n",
      "           0       0.82      0.81      0.82       126\n",
      "           1       0.73      0.75      0.74        88\n",
      "\n",
      "    accuracy                           0.79       214\n",
      "   macro avg       0.78      0.78      0.78       214\n",
      "weighted avg       0.79      0.79      0.79       214\n",
      "\n"
     ]
    }
   ],
   "source": [
    "print(classification_report(y_test,y_pred))"
   ]
  },
  {
   "cell_type": "code",
   "execution_count": 49,
   "metadata": {},
   "outputs": [
    {
     "data": {
      "text/plain": [
       "array([[-1.18257184, -0.04542259, -0.35993157, -0.05333808,  1.29152665,\n",
       "        -1.28979156,  0.29298624, -0.36843889,  0.07718774]])"
      ]
     },
     "execution_count": 49,
     "metadata": {},
     "output_type": "execute_result"
    }
   ],
   "source": [
    "LogReg.coef_"
   ]
  },
  {
   "cell_type": "code",
   "execution_count": 50,
   "metadata": {},
   "outputs": [
    {
     "data": {
      "text/plain": [
       "array([3.9741279])"
      ]
     },
     "execution_count": 50,
     "metadata": {},
     "output_type": "execute_result"
    }
   ],
   "source": [
    "LogReg.intercept_"
   ]
  },
  {
   "cell_type": "code",
   "execution_count": 51,
   "metadata": {},
   "outputs": [
    {
     "data": {
      "text/plain": [
       "Index(['Pclass', 'Age', 'SibSp', 'Parch', 'Sex_female', 'Sex_male',\n",
       "       'Embarked_C', 'Embarked_Q', 'Embarked_S'],\n",
       "      dtype='object')"
      ]
     },
     "execution_count": 51,
     "metadata": {},
     "output_type": "execute_result"
    }
   ],
   "source": [
    "df_train_dummied[used_features].columns"
   ]
  },
  {
   "cell_type": "code",
   "execution_count": 52,
   "metadata": {},
   "outputs": [
    {
     "data": {
      "text/plain": [
       "array([[0.03150511, 0.96849489],\n",
       "       [0.55179692, 0.44820308],\n",
       "       [0.8867559 , 0.1132441 ],\n",
       "       [0.09996179, 0.90003821],\n",
       "       [0.17317114, 0.82682886],\n",
       "       [0.8721576 , 0.1278424 ],\n",
       "       [0.31091829, 0.68908171],\n",
       "       [0.23082528, 0.76917472],\n",
       "       [0.87233415, 0.12766585],\n",
       "       [0.66680324, 0.33319676],\n",
       "       [0.82773941, 0.17226059],\n",
       "       [0.61459028, 0.38540972],\n",
       "       [0.83254856, 0.16745144],\n",
       "       [0.89123772, 0.10876228],\n",
       "       [0.75251391, 0.24748609],\n",
       "       [0.93666813, 0.06333187],\n",
       "       [0.90375962, 0.09624038],\n",
       "       [0.88211382, 0.11788618],\n",
       "       [0.9034592 , 0.0965408 ],\n",
       "       [0.94887742, 0.05112258],\n",
       "       [0.67894212, 0.32105788],\n",
       "       [0.20710166, 0.79289834],\n",
       "       [0.93947387, 0.06052613],\n",
       "       [0.90375962, 0.09624038],\n",
       "       [0.84483383, 0.15516617],\n",
       "       [0.25692091, 0.74307909],\n",
       "       [0.86718944, 0.13281056],\n",
       "       [0.61551343, 0.38448657],\n",
       "       [0.31091829, 0.68908171],\n",
       "       [0.65663612, 0.34336388],\n",
       "       [0.53993451, 0.46006549],\n",
       "       [0.1375425 , 0.8624575 ],\n",
       "       [0.39354169, 0.60645831],\n",
       "       [0.50897128, 0.49102872],\n",
       "       [0.86718944, 0.13281056],\n",
       "       [0.25529741, 0.74470259],\n",
       "       [0.70587892, 0.29412108],\n",
       "       [0.27338413, 0.72661587],\n",
       "       [0.81949842, 0.18050158],\n",
       "       [0.96670161, 0.03329839],\n",
       "       [0.85637326, 0.14362674],\n",
       "       [0.70587892, 0.29412108],\n",
       "       [0.79312638, 0.20687362],\n",
       "       [0.36359741, 0.63640259],\n",
       "       [0.36153298, 0.63846702],\n",
       "       [0.49459737, 0.50540263],\n",
       "       [0.90734904, 0.09265096],\n",
       "       [0.89556307, 0.10443693],\n",
       "       [0.10767919, 0.89232081],\n",
       "       [0.88420819, 0.11579181],\n",
       "       [0.33890869, 0.66109131],\n",
       "       [0.89607482, 0.10392518],\n",
       "       [0.42381796, 0.57618204],\n",
       "       [0.87713713, 0.12286287],\n",
       "       [0.91137655, 0.08862345],\n",
       "       [0.15370068, 0.84629932],\n",
       "       [0.70587892, 0.29412108],\n",
       "       [0.61339729, 0.38660271],\n",
       "       [0.13196935, 0.86803065],\n",
       "       [0.31091829, 0.68908171],\n",
       "       [0.3819403 , 0.6180597 ],\n",
       "       [0.3207326 , 0.6792674 ],\n",
       "       [0.8387857 , 0.1612143 ],\n",
       "       [0.43494659, 0.56505341],\n",
       "       [0.0427934 , 0.9572066 ],\n",
       "       [0.480009  , 0.519991  ],\n",
       "       [0.08490656, 0.91509344],\n",
       "       [0.87233415, 0.12766585],\n",
       "       [0.10398031, 0.89601969],\n",
       "       [0.24232394, 0.75767606],\n",
       "       [0.86187023, 0.13812977],\n",
       "       [0.08914359, 0.91085641],\n",
       "       [0.78611607, 0.21388393],\n",
       "       [0.49135484, 0.50864516],\n",
       "       [0.3503301 , 0.6496699 ],\n",
       "       [0.4502025 , 0.5497975 ],\n",
       "       [0.12624634, 0.87375366],\n",
       "       [0.32136078, 0.67863922],\n",
       "       [0.8867559 , 0.1132441 ],\n",
       "       [0.11672414, 0.88327586],\n",
       "       [0.49322671, 0.50677329],\n",
       "       [0.5471296 , 0.4528704 ],\n",
       "       [0.3207326 , 0.6792674 ],\n",
       "       [0.03566595, 0.96433405],\n",
       "       [0.20045684, 0.79954316],\n",
       "       [0.89524002, 0.10475998],\n",
       "       [0.8867559 , 0.1132441 ],\n",
       "       [0.69636119, 0.30363881],\n",
       "       [0.33254584, 0.66745416],\n",
       "       [0.5027096 , 0.4972904 ],\n",
       "       [0.11370769, 0.88629231],\n",
       "       [0.12685245, 0.87314755],\n",
       "       [0.41804443, 0.58195557],\n",
       "       [0.9149774 , 0.0850226 ],\n",
       "       [0.83254856, 0.16745144],\n",
       "       [0.86848714, 0.13151286],\n",
       "       [0.88788713, 0.11211287],\n",
       "       [0.86660864, 0.13339136],\n",
       "       [0.48385514, 0.51614486],\n",
       "       [0.92808728, 0.07191272],\n",
       "       [0.63550558, 0.36449442],\n",
       "       [0.21407889, 0.78592111],\n",
       "       [0.85069544, 0.14930456],\n",
       "       [0.27044498, 0.72955502],\n",
       "       [0.97226598, 0.02773402],\n",
       "       [0.23881078, 0.76118922],\n",
       "       [0.8055798 , 0.1944202 ],\n",
       "       [0.91885482, 0.08114518],\n",
       "       [0.09880726, 0.90119274],\n",
       "       [0.06587662, 0.93412338],\n",
       "       [0.95694752, 0.04305248],\n",
       "       [0.87358892, 0.12641108],\n",
       "       [0.34270331, 0.65729669],\n",
       "       [0.60257183, 0.39742817],\n",
       "       [0.90375962, 0.09624038],\n",
       "       [0.94176127, 0.05823873],\n",
       "       [0.13152334, 0.86847666],\n",
       "       [0.62795641, 0.37204359],\n",
       "       [0.22241637, 0.77758363],\n",
       "       [0.86718944, 0.13281056],\n",
       "       [0.89123772, 0.10876228],\n",
       "       [0.89123772, 0.10876228],\n",
       "       [0.90763859, 0.09236141],\n",
       "       [0.67894212, 0.32105788],\n",
       "       [0.96958675, 0.03041325],\n",
       "       [0.22544287, 0.77455713],\n",
       "       [0.10471539, 0.89528461],\n",
       "       [0.84483383, 0.15516617],\n",
       "       [0.79820301, 0.20179699],\n",
       "       [0.28217833, 0.71782167],\n",
       "       [0.39354169, 0.60645831],\n",
       "       [0.31091829, 0.68908171],\n",
       "       [0.89123772, 0.10876228],\n",
       "       [0.81875265, 0.18124735],\n",
       "       [0.15089581, 0.84910419],\n",
       "       [0.79917587, 0.20082413],\n",
       "       [0.79709248, 0.20290752],\n",
       "       [0.67681749, 0.32318251],\n",
       "       [0.88659669, 0.11340331],\n",
       "       [0.38072529, 0.61927471],\n",
       "       [0.87676493, 0.12323507],\n",
       "       [0.19459394, 0.80540606],\n",
       "       [0.87233415, 0.12766585],\n",
       "       [0.27494931, 0.72505069],\n",
       "       [0.8387857 , 0.1612143 ],\n",
       "       [0.81926393, 0.18073607],\n",
       "       [0.3012711 , 0.6987289 ],\n",
       "       [0.04837062, 0.95162938],\n",
       "       [0.5818521 , 0.4181479 ],\n",
       "       [0.98444144, 0.01555856],\n",
       "       [0.03952233, 0.96047767],\n",
       "       [0.76735045, 0.23264955],\n",
       "       [0.8387857 , 0.1612143 ],\n",
       "       [0.60377665, 0.39622335],\n",
       "       [0.85637326, 0.14362674],\n",
       "       [0.24705984, 0.75294016],\n",
       "       [0.03605715, 0.96394285],\n",
       "       [0.82773941, 0.17226059],\n",
       "       [0.14745062, 0.85254938],\n",
       "       [0.95509755, 0.04490245],\n",
       "       [0.26656022, 0.73343978],\n",
       "       [0.84483383, 0.15516617],\n",
       "       [0.22465518, 0.77534482],\n",
       "       [0.87730777, 0.12269223],\n",
       "       [0.18485615, 0.81514385],\n",
       "       [0.61421492, 0.38578508],\n",
       "       [0.27238537, 0.72761463],\n",
       "       [0.81875265, 0.18124735],\n",
       "       [0.03292095, 0.96707905],\n",
       "       [0.93666813, 0.06333187],\n",
       "       [0.33035742, 0.66964258],\n",
       "       [0.0572679 , 0.9427321 ],\n",
       "       [0.8387857 , 0.1612143 ],\n",
       "       [0.59428511, 0.40571489],\n",
       "       [0.17291148, 0.82708852],\n",
       "       [0.68802195, 0.31197805],\n",
       "       [0.26743432, 0.73256568],\n",
       "       [0.0580702 , 0.9419298 ],\n",
       "       [0.68802195, 0.31197805],\n",
       "       [0.76735045, 0.23264955],\n",
       "       [0.68633119, 0.31366881],\n",
       "       [0.88211382, 0.11788618],\n",
       "       [0.14322044, 0.85677956],\n",
       "       [0.06111573, 0.93888427],\n",
       "       [0.77276442, 0.22723558],\n",
       "       [0.91844503, 0.08155497],\n",
       "       [0.03892574, 0.96107426],\n",
       "       [0.8387857 , 0.1612143 ],\n",
       "       [0.96539175, 0.03460825],\n",
       "       [0.49520532, 0.50479468],\n",
       "       [0.04873396, 0.95126604],\n",
       "       [0.42381796, 0.57618204],\n",
       "       [0.82612013, 0.17387987],\n",
       "       [0.87283073, 0.12716927],\n",
       "       [0.58270556, 0.41729444],\n",
       "       [0.94184811, 0.05815189],\n",
       "       [0.76706747, 0.23293253],\n",
       "       [0.03922105, 0.96077895],\n",
       "       [0.43425311, 0.56574689],\n",
       "       [0.37393349, 0.62606651],\n",
       "       [0.25541265, 0.74458735],\n",
       "       [0.91137655, 0.08862345],\n",
       "       [0.93328832, 0.06671168],\n",
       "       [0.95103644, 0.04896356],\n",
       "       [0.98827353, 0.01172647],\n",
       "       [0.5479841 , 0.4520159 ],\n",
       "       [0.75009443, 0.24990557],\n",
       "       [0.43593977, 0.56406023],\n",
       "       [0.59393822, 0.40606178],\n",
       "       [0.34996958, 0.65003042],\n",
       "       [0.5245389 , 0.4754611 ],\n",
       "       [0.60377665, 0.39622335],\n",
       "       [0.84462601, 0.15537399],\n",
       "       [0.9849955 , 0.0150045 ]])"
      ]
     },
     "execution_count": 52,
     "metadata": {},
     "output_type": "execute_result"
    }
   ],
   "source": [
    "LogReg.predict_proba(x_test)"
   ]
  },
  {
   "cell_type": "code",
   "execution_count": null,
   "metadata": {},
   "outputs": [],
   "source": []
  }
 ],
 "metadata": {
  "kernelspec": {
   "display_name": "Python 3",
   "language": "python",
   "name": "python3"
  },
  "language_info": {
   "codemirror_mode": {
    "name": "ipython",
    "version": 3
   },
   "file_extension": ".py",
   "mimetype": "text/x-python",
   "name": "python",
   "nbconvert_exporter": "python",
   "pygments_lexer": "ipython3",
   "version": "3.6.10"
  }
 },
 "nbformat": 4,
 "nbformat_minor": 4
}
